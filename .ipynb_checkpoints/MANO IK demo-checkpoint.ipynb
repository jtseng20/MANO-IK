{
 "cells": [
  {
   "cell_type": "code",
   "execution_count": null,
   "id": "conventional-davis",
   "metadata": {},
   "outputs": [],
   "source": [
    "from IK_hand import *\n",
    "from ik_util import *\n",
    "\n",
    "%load_ext autoreload\n",
    "%autoreload 2"
   ]
  },
  {
   "cell_type": "markdown",
   "id": "cooked-demand",
   "metadata": {},
   "source": [
    "Run this cell to start up a demo of hand IK. Drag targets around to test the implementation."
   ]
  },
  {
   "cell_type": "code",
   "execution_count": null,
   "id": "identified-death",
   "metadata": {},
   "outputs": [],
   "source": [
    "p.connect(p.GUI)\n",
    "p.resetSimulation()\n",
    "p.configureDebugVisualizer(p.COV_ENABLE_RGB_BUFFER_PREVIEW,0)\n",
    "p.configureDebugVisualizer(p.COV_ENABLE_DEPTH_BUFFER_PREVIEW,0)\n",
    "p.configureDebugVisualizer(p.COV_ENABLE_SEGMENTATION_MARK_PREVIEW,0)\n",
    "p.resetDebugVisualizerCamera( cameraDistance=2, cameraYaw=0, cameraPitch=0, cameraTargetPosition=[0,0,-0.5])\n",
    "\n",
    "\n",
    "pixelWidth = 640\n",
    "pixelHeight = 360\n",
    "viewMatrix = p.computeViewMatrixFromYawPitchRoll(cameraTargetPosition=[0,0,-0.3], distance=2.0, yaw=0.0, pitch=0.0, roll=0.0, upAxisIndex=2)\n",
    "projectionMatrix = p.computeProjectionMatrixFOV(fov=60, aspect=pixelWidth / pixelHeight, nearVal=0.01, farVal=100)\n",
    "\n",
    "\n",
    "reset_simulation()\n",
    "\n",
    "all_end_effectors = ['i_tip', \n",
    "                     'm_tip', \n",
    "                     'p_tip', \n",
    "                     'r_tip', \n",
    "                     't_tip', \n",
    "                     'base']\n",
    "end_effector_weights = [5,5,5,5,5,1]\n",
    "ikhand = IKHand(\"right\", all_end_effectors, weights=end_effector_weights, use_bounds=True)\n",
    "p.stepSimulation()\n",
    "\n",
    "#ikhand.resetBasePositionAndOrientation([0,0,1], rand_quat())\n",
    "\n",
    "for timestep_i in range(30000):\n",
    "    # Solve the pose\n",
    "    ikhand.track_targets()\n",
    "    p.stepSimulation()\n",
    "    # update the targets\n",
    "    ikhand.update_targets()\n",
    "    mouseEvents = p.getMouseEvents()\n",
    "    for e in mouseEvents:\n",
    "        if e[4] & p.KEY_WAS_RELEASED:\n",
    "            # stop motion of all objects representing constraints when no mouse clicks\n",
    "            ikhand.freeze_target_bodies()"
   ]
  },
  {
   "cell_type": "markdown",
   "id": "dominican-strengthening",
   "metadata": {},
   "source": [
    "Run the following cell to disconnect the physics engine."
   ]
  },
  {
   "cell_type": "code",
   "execution_count": null,
   "id": "victorian-lloyd",
   "metadata": {},
   "outputs": [],
   "source": [
    "p.disconnect()"
   ]
  }
 ],
 "metadata": {
  "kernelspec": {
   "display_name": "Python 3",
   "language": "python",
   "name": "python3"
  },
  "language_info": {
   "codemirror_mode": {
    "name": "ipython",
    "version": 3
   },
   "file_extension": ".py",
   "mimetype": "text/x-python",
   "name": "python",
   "nbconvert_exporter": "python",
   "pygments_lexer": "ipython3",
   "version": "3.7.10"
  }
 },
 "nbformat": 4,
 "nbformat_minor": 5
}
